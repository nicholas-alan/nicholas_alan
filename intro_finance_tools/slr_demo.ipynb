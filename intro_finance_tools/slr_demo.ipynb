{
 "cells": [
  {
   "cell_type": "code",
   "execution_count": 2,
   "id": "eb0ec596-35a9-4410-981b-663708189579",
   "metadata": {},
   "outputs": [],
   "source": [
    "import simple_linear_regression as slr"
   ]
  },
  {
   "cell_type": "code",
   "execution_count": 15,
   "id": "5263def4-889b-49c9-ba79-a7e10452e608",
   "metadata": {},
   "outputs": [],
   "source": [
    "x_data = [1, 12, 14, 16, 18, 20]\n",
    "y_data = [5, 18, 16, 22, 23, 26]"
   ]
  },
  {
   "cell_type": "code",
   "execution_count": 16,
   "id": "35e3cf13-4069-4a12-b0da-398f5c894378",
   "metadata": {},
   "outputs": [
    {
     "data": {
      "image/png": "[encoded data removed]",
      "text/plain": [
       "<Figure size 800x500 with 1 Axes>"
      ]
     },
     "metadata": {},
     "output_type": "display_data"
    }
   ],
   "source": [
    "slr.simple_linear_regression(x_data, y_data)"
   ]
  },
  {
   "cell_type": "code",
   "execution_count": 12,
   "id": "0bf87845-390d-45e4-97e5-e20476de6659",
   "metadata": {},
   "outputs": [
    {
     "data": {
      "text/plain": [
       "(2.476190476190478, 1.157142857142857)"
      ]
     },
     "execution_count": 12,
     "metadata": {},
     "output_type": "execute_result"
    }
   ],
   "source": [
    "model_params = slr.simp_linear_regression(x_data, y_data)\n",
    "model_params"
   ]
  },
  {
   "cell_type": "code",
   "execution_count": 19,
   "id": "d8b1a77d-49de-44e8-a10b-efb99f11146e",
   "metadata": {},
   "outputs": [
    {
     "name": "stdout",
     "output_type": "stream",
     "text": [
      "2.476190476190478 is the intercept-coefficient, aka Beta-0\n",
      "1.157142857142857 is the slope-coefficient, aka Beta-1\n"
     ]
    }
   ],
   "source": [
    "print(f\"\"\"{model_params[0]} is the intercept-coefficient, aka Beta-0\n",
    "{model_params[1]} is the slope-coefficient, aka Beta-1\"\"\")"
   ]
  },
  {
   "cell_type": "code",
   "execution_count": 20,
   "id": "5775c6d3-8e56-44dc-b2c7-a29314690b6c",
   "metadata": {},
   "outputs": [
    {
     "data": {
      "text/plain": [
       "1.6555781356844945"
      ]
     },
     "execution_count": 20,
     "metadata": {},
     "output_type": "execute_result"
    }
   ],
   "source": [
    "slr.se_beta_0(x_data, y_data)"
   ]
  },
  {
   "cell_type": "code",
   "execution_count": 21,
   "id": "6fdd0312-b180-4b3d-8dd8-329f6713d6e5",
   "metadata": {},
   "outputs": [
    {
     "data": {
      "text/plain": [
       "0.11157679919997612"
      ]
     },
     "execution_count": 21,
     "metadata": {},
     "output_type": "execute_result"
    }
   ],
   "source": [
    "slr.se_slope(x_data, y_data)"
   ]
  },
  {
   "cell_type": "code",
   "execution_count": 22,
   "id": "5bc1aa7c-f064-4abd-a552-2cf5c9a3628b",
   "metadata": {},
   "outputs": [
    {
     "data": {
      "text/plain": [
       "0.9591504649196959"
      ]
     },
     "execution_count": 22,
     "metadata": {},
     "output_type": "execute_result"
    }
   ],
   "source": [
    "slr.r_sq(x_data, y_data)"
   ]
  },
  {
   "cell_type": "code",
   "execution_count": 23,
   "id": "01ee2121-2ad3-4f8d-ac86-c45f15431ce0",
   "metadata": {},
   "outputs": [
    {
     "data": {
      "text/plain": [
       "0.9489380811496199"
      ]
     },
     "execution_count": 23,
     "metadata": {},
     "output_type": "execute_result"
    }
   ],
   "source": [
    "slr.adj_r_sq(x_data, y_data)"
   ]
  },
  {
   "cell_type": "code",
   "execution_count": 24,
   "id": "bb3241e5-7b68-4154-8084-665c8eacb5c4",
   "metadata": {},
   "outputs": [
    {
     "data": {
      "text/plain": [
       "[4.816849816849814,\n",
       " 16.711355311355312,\n",
       " 18.873992673992674,\n",
       " 21.036630036630036,\n",
       " 23.1992673992674,\n",
       " 25.36190476190476]"
      ]
     },
     "execution_count": 24,
     "metadata": {},
     "output_type": "execute_result"
    }
   ],
   "source": [
    "slr.y_hat(x_data,y_data)"
   ]
  },
  {
   "cell_type": "code",
   "execution_count": 27,
   "id": "81366f1c-e232-42b5-8792-39a240e13b75",
   "metadata": {},
   "outputs": [
    {
     "data": {
      "text/plain": [
       "array([ 0.18315018,  1.28864469, -2.87399267,  0.96336996, -0.1992674 ,\n",
       "        0.63809524])"
      ]
     },
     "execution_count": 27,
     "metadata": {},
     "output_type": "execute_result"
    }
   ],
   "source": [
    "slr.deviation_error(x_data,y_data)"
   ]
  },
  {
   "cell_type": "code",
   "execution_count": 28,
   "id": "470773dc-4b65-441c-b356-df2da02eb786",
   "metadata": {},
   "outputs": [
    {
     "data": {
      "text/plain": [
       "2.256330314477539"
      ]
     },
     "execution_count": 28,
     "metadata": {},
     "output_type": "execute_result"
    }
   ],
   "source": [
    "slr.t_stat_beta_0(x_data, y_data)"
   ]
  },
  {
   "cell_type": "code",
   "execution_count": 29,
   "id": "fce6dc59-8dfb-4396-8fdd-4fa1c2874069",
   "metadata": {},
   "outputs": [
    {
     "data": {
      "text/plain": [
       "9.69125023366787"
      ]
     },
     "execution_count": 29,
     "metadata": {},
     "output_type": "execute_result"
    }
   ],
   "source": [
    "slr.t_stat_beta_1(x_data, y_data)"
   ]
  },
  {
   "cell_type": "code",
   "execution_count": null,
   "id": "a2b0f05f-4691-45a0-971d-4f8598d7585a",
   "metadata": {},
   "outputs": [],
   "source": []
  }
 ],
 "metadata": {
  "kernelspec": {
   "display_name": "Python 3 (ipykernel)",
   "language": "python",
   "name": "python3"
  },
  "language_info": {
   "codemirror_mode": {
    "name": "ipython",
    "version": 3
   },
   "file_extension": ".py",
   "mimetype": "text/x-python",
   "name": "python",
   "nbconvert_exporter": "python",
   "pygments_lexer": "ipython3",
   "version": "3.12.7"
  }
 },
 "nbformat": 4,
 "nbformat_minor": 5
}
